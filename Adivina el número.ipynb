{
 "cells": [
  {
   "cell_type": "code",
   "execution_count": 1,
   "id": "18803667-ae65-4f3a-86f1-8df879ec3b0b",
   "metadata": {},
   "outputs": [],
   "source": [
    "import random as rd\n",
    "import pandas as pd\n",
    "import matplotlib.pyplot as plt\n",
    "import datetime as dt\n",
    "import getpass as gp\n",
    "from tabulate import tabulate\n",
    "import math"
   ]
  },
  {
   "cell_type": "code",
   "execution_count": 2,
   "id": "7b8786c5-ac40-4d7d-8f78-39e3beac4272",
   "metadata": {},
   "outputs": [],
   "source": [
    "def Menu():\n",
    "    print('\\n¡Bienvenido al Juego de adivinanza!\\n1. Partida modo solitario \\n2. Partida 2 Jugadores \\n3. Estadística \\n4. Salir')"
   ]
  },
  {
   "cell_type": "code",
   "execution_count": 3,
   "id": "2df5cf1f-9432-47e8-9224-330e3895b52d",
   "metadata": {},
   "outputs": [],
   "source": [
    "def Dificultad():\n",
    "    print('\\n1. Fácil (20 intentos) \\n2. Medio (12 intentos) \\n3. Difícil (5 intentos) \\n4. Rango Personalizado')"
   ]
  },
  {
   "cell_type": "code",
   "execution_count": 4,
   "id": "c30d1283-df36-445b-be68-37c35475bde0",
   "metadata": {},
   "outputs": [],
   "source": [
    "def Opcion(minimo, maximo):\n",
    "    opcion = 0\n",
    "    while opcion < minimo or opcion > maximo:\n",
    "        try:\n",
    "            opcion = int(input(f'\\nEscoge una opción entre {minimo} y {maximo}'))\n",
    "            if opcion < minimo or opcion > maximo:\n",
    "                print('\\nEscoge una de las opciones provistas')\n",
    "        except:\n",
    "            print('\\nPor favor utiliza un numero entero')\n",
    "            pass\n",
    "    return opcion"
   ]
  },
  {
   "cell_type": "code",
   "execution_count": 5,
   "id": "5f4b262c-09b7-4df0-a7f5-e4723dd2a47e",
   "metadata": {},
   "outputs": [],
   "source": [
    "facil = 20\n",
    "medio = 12\n",
    "dificil = 5\n",
    "intentos = [facil, medio, dificil]\n",
    "seleccion = None"
   ]
  },
  {
   "cell_type": "code",
   "execution_count": 6,
   "id": "7cef3411-6b68-46d5-9e15-c003ce23be20",
   "metadata": {},
   "outputs": [],
   "source": [
    "def Solitario(minimo = 1, maximo = 1000):\n",
    "    numsolitario = rd.randrange(minimo, maximo+1)\n",
    "    guess = None\n",
    "    adivinado = False\n",
    "    jugador = \"\"\n",
    "\n",
    "    while not jugador.isalpha():\n",
    "        jugador = input(\"\\nIngrese el nombre del Jugador (solo letras): \").strip().upper()\n",
    "        if not jugador.isalpha():\n",
    "            print('\\nEl nombre debe contener solo letras. Intentalo de nuevo:')\n",
    "            \n",
    "    print(f'\\nEl rango a adivinar es entre {minimo} y {maximo}')\n",
    "    \n",
    "    for intento in range(seleccion, 0, -1):\n",
    "        print(f'\\nTe queda {intento} intento{\"s\" if intento > 1 else \"\"}')\n",
    "\n",
    "        es_valido = False\n",
    "        while not es_valido:  \n",
    "            try:\n",
    "                guess = int(input('\\nEscribe un número: '))\n",
    "                if minimo <= guess <= maximo:\n",
    "                    es_valido = True\n",
    "                else:\n",
    "                    print(f\"\\nEl número debe estar entre {minimo} y {maximo}. Intenta de nuevo.\")\n",
    "            except ValueError:\n",
    "                print(\"\\nPor favor, ingresa un número entero.\")\n",
    "\n",
    "        if guess < numsolitario:\n",
    "            print('\\nEl número es mayor.')\n",
    "        elif guess > numsolitario:\n",
    "            print('\\nEl número es menor.')\n",
    "        else:\n",
    "            print(f'\\n¡Ganaste {jugador}! Adivinaste el número {numsolitario}.')\n",
    "            adivinado = True\n",
    "            return intento, adivinado, jugador\n",
    "    \n",
    "    if not adivinado:        \n",
    "        print(f'\\nSe acabaron los intentos. El número era {numsolitario}.')\n",
    "        return 0, adivinado, jugador"
   ]
  },
  {
   "cell_type": "code",
   "execution_count": 7,
   "id": "1eb92bbb-1a2a-4cf1-a788-dce2f501937c",
   "metadata": {},
   "outputs": [],
   "source": [
    "def Rango():\n",
    "    cuestion = False\n",
    "\n",
    "    while not cuestion:\n",
    "        try:\n",
    "            minimo = int(input(\"\\nIngresa el inicio del rango: \"))\n",
    "            maximo = int(input(\"\\nIngresa el final del rango: \"))\n",
    "            \n",
    "            if minimo < maximo:\n",
    "                print(f'\\nEl rango a adivinar sera entre {minimo} y {maximo}')\n",
    "                cuestion = True\n",
    "            else:\n",
    "                print(\"\\nEl inicio debe ser menor que el final. Intenta de nuevo.\")\n",
    "        except ValueError:\n",
    "            print(\"\\nPor favor, ingresa números enteros.\")\n",
    "            \n",
    "    rango = maximo - minimo + 1\n",
    "    intentos = math.ceil(rango/100) + 1\n",
    "    intentos = max(3, min(intentos, 25))\n",
    "\n",
    "    print(f'\\nLa cantidad de intentos que tendrás será {intentos}')\n",
    "    return minimo, maximo, intentos"
   ]
  },
  {
   "cell_type": "code",
   "execution_count": 15,
   "id": "8abd508e-7bcb-434f-99b0-4967cdf10186",
   "metadata": {},
   "outputs": [],
   "source": [
    "def Multijugador(minimo = 1, maximo = 1000):\n",
    "    \n",
    "    valor_escondido = None\n",
    "    es_valido = False\n",
    "    jugador1 = \"\"\n",
    "    jugador2 = \"\"\n",
    "\n",
    "    while not jugador1.isalpha():\n",
    "        jugador1 = input(\"\\nIngrese el nombre del Jugador 1 (solo letras): \").strip().upper()\n",
    "        if not jugador1.isalpha():\n",
    "            print('\\nEl nombre debe contener solo letras. Intentalo de nuevo:')\n",
    "            \n",
    "    while not es_valido:\n",
    "        try:\n",
    "            entrada = gp.getpass(f'\\n{jugador1}, elige un valor entre {minimo} y {maximo}')\n",
    "            valor_escondido = int(entrada)\n",
    "            if minimo <= valor_escondido <= maximo:\n",
    "                es_valido = True\n",
    "            else:\n",
    "                print(f'\\nEl numero debe estar entre {minimo} y {maximo}. Intentalo de nuevo')\n",
    "        except ValueError:\n",
    "            print('\\nIngresa un número entero.')\n",
    "            \n",
    "    while not jugador2.isalpha():\n",
    "        jugador2 = input(\"\\nIngrese el nombre del Jugador 2 (solo letras): \").strip().upper()\n",
    "        if not jugador2.isalpha():\n",
    "            print('\\nEl nombre debe contener solo letras. Intentalo de nuevo:')\n",
    "    \n",
    "    print(f'\\n{jugador2}, tienes {seleccion} intentos para adivinar el número entre {minimo} y {maximo}')\n",
    "    \n",
    "    adivinado = False\n",
    "    \n",
    "    for intento in range(seleccion, 0, -1):\n",
    "        print(f\"\\nTe queda{'' if intento == 1 else 'n'} {intento} intento{'' if intento == 1 else 's'}.\")\n",
    "        guess_valido = False\n",
    "        while not guess_valido:\n",
    "            try:\n",
    "                guess = int(input(\"\\nEscribe un número: \"))\n",
    "                if minimo <= guess <= maximo:\n",
    "                    guess_valido = True\n",
    "                else:\n",
    "                    print(f'\\nEl numero debe estar entre {minimo} y {maximo}. Intentalo de nuevo')\n",
    "            except ValueError:\n",
    "                print('\\nIngresa un número entero.')\n",
    "        if guess < valor_escondido:\n",
    "            print('\\nEl número es mayor.')\n",
    "        elif guess > valor_escondido:\n",
    "            print('\\nEl número es menor.')\n",
    "        else:\n",
    "            adivinado = True\n",
    "            print(f'\\n¡Felicidades {jugador2}!, has adivinado el número {valor_escondido}')\n",
    "            return intento, adivinado, jugador1, jugador2\n",
    "    if not adivinado:\n",
    "        print(f'\\nSe acabaron los intentos. El número era {valor_escondido}')\n",
    "        return 0, adivinado, jugador1, jugador2"
   ]
  },
  {
   "cell_type": "code",
   "execution_count": 17,
   "id": "7ed3159a-3b46-4b56-b099-f9a3a465f3a2",
   "metadata": {},
   "outputs": [],
   "source": [
    "def Guardar_solitario(cuantos, estado, jugador, dificultad):\n",
    "    fecha = dt.datetime.now().strftime(\"%Y-%m-%d %H:%M:%S\")\n",
    "    datos = {\n",
    "        \"Nombre Jugador\" : [jugador],\n",
    "        \"Dificultad\" : [\"Fácil\" if dificultad == 1 else \"Medio\" if dificultad == 2 else \"Difícil\" if dificultad == 3 else \"Rango Personalizado\"],\n",
    "        \"Intentos restantes\" : [cuantos],\n",
    "        \"Resultado\" : [\"Gano\" if estado else \"Perdio\"],\n",
    "        \"Fecha\" : [fecha]\n",
    "    }\n",
    "\n",
    "    df = pd.DataFrame(datos)\n",
    "\n",
    "    archivo = \"C:/Users/swart/OneDrive/Escritorio/adivina.xlsx\"\n",
    "    nombre_hoja = 'Solitario'\n",
    "\n",
    "    with pd.ExcelWriter(archivo, mode = 'a', if_sheet_exists = 'overlay') as writer:\n",
    "\n",
    "        if nombre_hoja in writer.sheets:\n",
    "            startrow = writer.sheets[nombre_hoja].max_row\n",
    "            df.to_excel(writer, sheet_name=nombre_hoja, index=False, header=False, startrow=startrow)\n",
    "        else:\n",
    "            df.to_excel(writer, sheet_name=nombre_hoja, index=False)\n",
    "    print('\\nResultados guardados, para consultar el registro de datos ingresar a la opcion de Estadistica en el Menu principal')"
   ]
  },
  {
   "cell_type": "code",
   "execution_count": 19,
   "id": "70cf256c-0446-4ebc-b083-03d3143e97f3",
   "metadata": {},
   "outputs": [],
   "source": [
    "def Guardar_multijugador(cuantos, estado, jugador1, jugador2, dificultad):\n",
    "    fecha = dt.datetime.now().strftime(\"%Y-%m-%d %H:%M:%S\")\n",
    "    datos = {\n",
    "        \"Jugador 1\" : [jugador1],\n",
    "        \"Jugador 2\" : [jugador2],\n",
    "        \"Dificultad\" : [\"Fácil\" if dificultad == 1 else \"Medio\" if dificultad == 2 else \"Difícil\" if dificultad == 3 else \"Rango Personalizado\"],\n",
    "        \"Intentos restantes\" : [cuantos],\n",
    "        \"Resultado\" : [\"Gano\" if estado else \"Perdio\"],\n",
    "        \"Fecha\" : [fecha]\n",
    "    }\n",
    "\n",
    "    df = pd.DataFrame(datos)\n",
    "\n",
    "    archivo = \"C:/Users/swart/OneDrive/Escritorio/adivina.xlsx\"\n",
    "    nombre_hoja = 'Multijugador'\n",
    "\n",
    "    with pd.ExcelWriter(archivo, mode = 'a', if_sheet_exists = 'overlay') as writer:\n",
    "\n",
    "        if nombre_hoja in writer.sheets:\n",
    "            startrow = writer.sheets[nombre_hoja].max_row\n",
    "            df.to_excel(writer, sheet_name=nombre_hoja, index=False, header=False, startrow=startrow)\n",
    "        else:\n",
    "            df.to_excel(writer, sheet_name=nombre_hoja, index=False)\n",
    "    print('\\nResultados guardados, para consultar el registro de datos ingresar a la opcion de Estadistica en el Menu principal')"
   ]
  },
  {
   "cell_type": "code",
   "execution_count": 21,
   "id": "1151b3cb-7953-4ec7-a907-1cb039d88122",
   "metadata": {},
   "outputs": [],
   "source": [
    "def Estadistica():\n",
    "    print('\\n1. Juegos Solitario. \\n2. Juegos Multijugador. \\n3. Salir')"
   ]
  },
  {
   "cell_type": "code",
   "execution_count": 23,
   "id": "4e2d3b48-adec-41ed-95e5-976cffe9d60d",
   "metadata": {},
   "outputs": [],
   "source": [
    "def Opciones_Estadistica():\n",
    "    print('\\n1. Top 10 Facil. \\n2. Top 10 Medio. \\n3. Top 10 Dificil. \\n4. Todos los datos \\n5. Buscar jugador. \\n6. Salir')"
   ]
  },
  {
   "cell_type": "code",
   "execution_count": 25,
   "id": "161815fc-d293-4689-a1f2-54fb048827da",
   "metadata": {},
   "outputs": [],
   "source": [
    "def Top10(estadistica, calculos):\n",
    "    \n",
    "    hoja_df = pd.read_excel(\"C:/Users/swart/OneDrive/Escritorio/adivina.xlsx\", sheet_name=\"Solitario\" if estadistica == 1 else \"Multijugador\")\n",
    "\n",
    "    dificultad = None\n",
    "\n",
    "    if calculos == 1:\n",
    "        dificultad = 'Fácil'\n",
    "    elif calculos == 2:\n",
    "        dificultad = 'Medio'\n",
    "    elif calculos == 3:\n",
    "        dificultad = 'Difícil'\n",
    "    \n",
    "    filtrado = hoja_df[(hoja_df[\"Dificultad\"] == dificultad) & (hoja_df[\"Resultado\"] == 'Gano')]\n",
    "    top_10 = filtrado.sort_values(\"Intentos restantes\").head(10)\n",
    "    if estadistica == 1:\n",
    "        todos = hoja_df.sort_values(\"Nombre Jugador\")\n",
    "    elif estadistica == 2:\n",
    "        todos = hoja_df.sort_values(\"Jugador 1\")\n",
    "    return top_10, todos"
   ]
  },
  {
   "cell_type": "code",
   "execution_count": 27,
   "id": "0ecd331b-3c2d-4bed-a5ce-1e2e080ac663",
   "metadata": {},
   "outputs": [],
   "source": [
    "def Buscar(nombre, estadistica):\n",
    "\n",
    "    hoja_df = pd.read_excel(\"C:/Users/swart/OneDrive/Escritorio/adivina.xlsx\", sheet_name=\"Solitario\" if estadistica == 1 else \"Multijugador\")\n",
    "\n",
    "    if estadistica ==1:\n",
    "        buscar_nombre = hoja_df[hoja_df[\"Nombre Jugador\"].str.contains(nombre, case=False, na=False)]\n",
    "    elif estadistica ==2:\n",
    "        buscar_nombre = hoja_df[\n",
    "        hoja_df[\"Jugador 2\"].str.contains(nombre, case=False, na=False) | \n",
    "        hoja_df[\"Jugador 1\"].str.contains(nombre, case=False, na=False)\n",
    "        ]\n",
    "        \n",
    "    if buscar_nombre.empty:\n",
    "        print(f\"\\nNo se encontraron resultados para el nombre '{nombre}'.\")\n",
    "    else:\n",
    "        print(f\"\\nResultados para '{nombre}':\")\n",
    "    return buscar_nombre"
   ]
  },
  {
   "cell_type": "code",
   "execution_count": 29,
   "id": "55dafb0e-880b-4283-b9df-cedf0e5f8084",
   "metadata": {},
   "outputs": [
    {
     "name": "stdout",
     "output_type": "stream",
     "text": [
      "\n",
      "¡Bienvenido al Juego de adivinanza!\n",
      "1. Partida modo solitario \n",
      "2. Partida 2 Jugadores \n",
      "3. Estadística \n",
      "4. Salir\n"
     ]
    },
    {
     "name": "stdin",
     "output_type": "stream",
     "text": [
      "\n",
      "Escoge una opción entre 1 y 4 2\n"
     ]
    },
    {
     "name": "stdout",
     "output_type": "stream",
     "text": [
      "\n",
      "1. Fácil (20 intentos) \n",
      "2. Medio (12 intentos) \n",
      "3. Difícil (5 intentos) \n",
      "4. Rango Personalizado\n"
     ]
    },
    {
     "name": "stdin",
     "output_type": "stream",
     "text": [
      "\n",
      "Escoge una opción entre 1 y 4 2\n",
      "\n",
      "Ingrese el nombre del Jugador 1 (solo letras):  jaime\n",
      "\n",
      "JAIME, elige un valor entre 1 y 1000 ········\n",
      "\n",
      "Ingrese el nombre del Jugador 2 (solo letras):  miriam\n"
     ]
    },
    {
     "name": "stdout",
     "output_type": "stream",
     "text": [
      "\n",
      "MIRIAM, tienes 12 intentos para adivinar el número entre 1 y 1000\n",
      "\n",
      "Te quedan 12 intentos.\n"
     ]
    },
    {
     "name": "stdin",
     "output_type": "stream",
     "text": [
      "\n",
      "Escribe un número:  14\n"
     ]
    },
    {
     "name": "stdout",
     "output_type": "stream",
     "text": [
      "\n",
      "El número es mayor.\n",
      "\n",
      "Te quedan 11 intentos.\n"
     ]
    },
    {
     "name": "stdin",
     "output_type": "stream",
     "text": [
      "\n",
      "Escribe un número:  80\n"
     ]
    },
    {
     "name": "stdout",
     "output_type": "stream",
     "text": [
      "\n",
      "El número es mayor.\n",
      "\n",
      "Te quedan 10 intentos.\n"
     ]
    },
    {
     "name": "stdin",
     "output_type": "stream",
     "text": [
      "\n",
      "Escribe un número:  95\n"
     ]
    },
    {
     "name": "stdout",
     "output_type": "stream",
     "text": [
      "\n",
      "El número es mayor.\n",
      "\n",
      "Te quedan 9 intentos.\n"
     ]
    },
    {
     "name": "stdin",
     "output_type": "stream",
     "text": [
      "\n",
      "Escribe un número:  600\n"
     ]
    },
    {
     "name": "stdout",
     "output_type": "stream",
     "text": [
      "\n",
      "El número es mayor.\n",
      "\n",
      "Te quedan 8 intentos.\n"
     ]
    },
    {
     "name": "stdin",
     "output_type": "stream",
     "text": [
      "\n",
      "Escribe un número:  800\n"
     ]
    },
    {
     "name": "stdout",
     "output_type": "stream",
     "text": [
      "\n",
      "El número es menor.\n",
      "\n",
      "Te quedan 7 intentos.\n"
     ]
    },
    {
     "name": "stdin",
     "output_type": "stream",
     "text": [
      "\n",
      "Escribe un número:  700\n"
     ]
    },
    {
     "name": "stdout",
     "output_type": "stream",
     "text": [
      "\n",
      "El número es mayor.\n",
      "\n",
      "Te quedan 6 intentos.\n"
     ]
    },
    {
     "name": "stdin",
     "output_type": "stream",
     "text": [
      "\n",
      "Escribe un número:  750\n"
     ]
    },
    {
     "name": "stdout",
     "output_type": "stream",
     "text": [
      "\n",
      "El número es mayor.\n",
      "\n",
      "Te quedan 5 intentos.\n"
     ]
    },
    {
     "name": "stdin",
     "output_type": "stream",
     "text": [
      "\n",
      "Escribe un número:  775\n"
     ]
    },
    {
     "name": "stdout",
     "output_type": "stream",
     "text": [
      "\n",
      "El número es mayor.\n",
      "\n",
      "Te quedan 4 intentos.\n"
     ]
    },
    {
     "name": "stdin",
     "output_type": "stream",
     "text": [
      "\n",
      "Escribe un número:  785\n"
     ]
    },
    {
     "name": "stdout",
     "output_type": "stream",
     "text": [
      "\n",
      "El número es menor.\n",
      "\n",
      "Te quedan 3 intentos.\n"
     ]
    },
    {
     "name": "stdin",
     "output_type": "stream",
     "text": [
      "\n",
      "Escribe un número:  777\n"
     ]
    },
    {
     "name": "stdout",
     "output_type": "stream",
     "text": [
      "\n",
      "¡Felicidades MIRIAM!, has adivinado el número 777\n",
      "\n",
      "Resultados guardados, para consultar el registro de datos ingresar a la opcion de Estadistica en el Menu principal\n",
      "\n",
      "¡Bienvenido al Juego de adivinanza!\n",
      "1. Partida modo solitario \n",
      "2. Partida 2 Jugadores \n",
      "3. Estadística \n",
      "4. Salir\n"
     ]
    },
    {
     "name": "stdin",
     "output_type": "stream",
     "text": [
      "\n",
      "Escoge una opción entre 1 y 4 2\n"
     ]
    },
    {
     "name": "stdout",
     "output_type": "stream",
     "text": [
      "\n",
      "1. Fácil (20 intentos) \n",
      "2. Medio (12 intentos) \n",
      "3. Difícil (5 intentos) \n",
      "4. Rango Personalizado\n"
     ]
    },
    {
     "name": "stdin",
     "output_type": "stream",
     "text": [
      "\n",
      "Escoge una opción entre 1 y 4 2\n",
      "\n",
      "Ingrese el nombre del Jugador 1 (solo letras):  miriam\n",
      "\n",
      "MIRIAM, elige un valor entre 1 y 1000 ········\n",
      "\n",
      "Ingrese el nombre del Jugador 2 (solo letras):  500\n"
     ]
    },
    {
     "name": "stdout",
     "output_type": "stream",
     "text": [
      "\n",
      "El nombre debe contener solo letras. Intentalo de nuevo:\n"
     ]
    },
    {
     "name": "stdin",
     "output_type": "stream",
     "text": [
      "\n",
      "Ingrese el nombre del Jugador 2 (solo letras):  jaime\n"
     ]
    },
    {
     "name": "stdout",
     "output_type": "stream",
     "text": [
      "\n",
      "JAIME, tienes 12 intentos para adivinar el número entre 1 y 1000\n",
      "\n",
      "Te quedan 12 intentos.\n"
     ]
    },
    {
     "name": "stdin",
     "output_type": "stream",
     "text": [
      "\n",
      "Escribe un número:  500\n"
     ]
    },
    {
     "name": "stdout",
     "output_type": "stream",
     "text": [
      "\n",
      "El número es mayor.\n",
      "\n",
      "Te quedan 11 intentos.\n"
     ]
    },
    {
     "name": "stdin",
     "output_type": "stream",
     "text": [
      "\n",
      "Escribe un número:  700\n"
     ]
    },
    {
     "name": "stdout",
     "output_type": "stream",
     "text": [
      "\n",
      "El número es menor.\n",
      "\n",
      "Te quedan 10 intentos.\n"
     ]
    },
    {
     "name": "stdin",
     "output_type": "stream",
     "text": [
      "\n",
      "Escribe un número:  650\n"
     ]
    },
    {
     "name": "stdout",
     "output_type": "stream",
     "text": [
      "\n",
      "El número es menor.\n",
      "\n",
      "Te quedan 9 intentos.\n"
     ]
    },
    {
     "name": "stdin",
     "output_type": "stream",
     "text": [
      "\n",
      "Escribe un número:  600\n"
     ]
    },
    {
     "name": "stdout",
     "output_type": "stream",
     "text": [
      "\n",
      "El número es mayor.\n",
      "\n",
      "Te quedan 8 intentos.\n"
     ]
    },
    {
     "name": "stdin",
     "output_type": "stream",
     "text": [
      "\n",
      "Escribe un número:  625\n"
     ]
    },
    {
     "name": "stdout",
     "output_type": "stream",
     "text": [
      "\n",
      "El número es mayor.\n",
      "\n",
      "Te quedan 7 intentos.\n"
     ]
    },
    {
     "name": "stdin",
     "output_type": "stream",
     "text": [
      "\n",
      "Escribe un número:  635\n"
     ]
    },
    {
     "name": "stdout",
     "output_type": "stream",
     "text": [
      "\n",
      "El número es menor.\n",
      "\n",
      "Te quedan 6 intentos.\n"
     ]
    },
    {
     "name": "stdin",
     "output_type": "stream",
     "text": [
      "\n",
      "Escribe un número:  630\n"
     ]
    },
    {
     "name": "stdout",
     "output_type": "stream",
     "text": [
      "\n",
      "El número es mayor.\n",
      "\n",
      "Te quedan 5 intentos.\n"
     ]
    },
    {
     "name": "stdin",
     "output_type": "stream",
     "text": [
      "\n",
      "Escribe un número:  631\n"
     ]
    },
    {
     "name": "stdout",
     "output_type": "stream",
     "text": [
      "\n",
      "El número es mayor.\n",
      "\n",
      "Te quedan 4 intentos.\n"
     ]
    },
    {
     "name": "stdin",
     "output_type": "stream",
     "text": [
      "\n",
      "Escribe un número:  632\n"
     ]
    },
    {
     "name": "stdout",
     "output_type": "stream",
     "text": [
      "\n",
      "¡Felicidades JAIME!, has adivinado el número 632\n",
      "\n",
      "Resultados guardados, para consultar el registro de datos ingresar a la opcion de Estadistica en el Menu principal\n",
      "\n",
      "¡Bienvenido al Juego de adivinanza!\n",
      "1. Partida modo solitario \n",
      "2. Partida 2 Jugadores \n",
      "3. Estadística \n",
      "4. Salir\n"
     ]
    },
    {
     "name": "stdin",
     "output_type": "stream",
     "text": [
      "\n",
      "Escoge una opción entre 1 y 4 3\n"
     ]
    },
    {
     "name": "stdout",
     "output_type": "stream",
     "text": [
      "\n",
      "1. Juegos Solitario. \n",
      "2. Juegos Multijugador. \n",
      "3. Salir\n"
     ]
    },
    {
     "name": "stdin",
     "output_type": "stream",
     "text": [
      "\n",
      "Escoge una opción entre 1 y 3 2\n"
     ]
    },
    {
     "name": "stdout",
     "output_type": "stream",
     "text": [
      "\n",
      "1. Top 10 Facil. \n",
      "2. Top 10 Medio. \n",
      "3. Top 10 Dificil. \n",
      "4. Todos los datos \n",
      "5. Buscar jugador. \n",
      "6. Salir\n"
     ]
    },
    {
     "name": "stdin",
     "output_type": "stream",
     "text": [
      "\n",
      "Escoge una opción entre 1 y 6 4\n"
     ]
    },
    {
     "name": "stdout",
     "output_type": "stream",
     "text": [
      "\n",
      "Lista de todos los juegos\n",
      "+-------------+-------------+---------------------+----------------------+-------------+---------------------+\n",
      "| Jugador 1   | Jugador 2   | Dificultad          |   Intentos restantes | Resultado   | Fecha               |\n",
      "+=============+=============+=====================+======================+=============+=====================+\n",
      "| JAIME       | MIRIAM      | Medio               |                    3 | Gano        | 2024-12-04 10:01:22 |\n",
      "+-------------+-------------+---------------------+----------------------+-------------+---------------------+\n",
      "| JUAN        | JAMES       | Rango Personalizado |                    4 | Gano        | 2024-12-03 18:14:31 |\n",
      "+-------------+-------------+---------------------+----------------------+-------------+---------------------+\n",
      "| MIRIAM      | JAIME       | Medio               |                    4 | Gano        | 2024-12-04 10:04:34 |\n",
      "+-------------+-------------+---------------------+----------------------+-------------+---------------------+\n",
      "| SAM         | ANDRES      | Difícil             |                    3 | Gano        | 2024-12-03 00:20:11 |\n",
      "+-------------+-------------+---------------------+----------------------+-------------+---------------------+\n",
      "| SAM         | ANDRES      | Rango Personalizado |                    1 | Gano        | 2024-12-03 18:16:11 |\n",
      "+-------------+-------------+---------------------+----------------------+-------------+---------------------+\n",
      "\n",
      "1. Top 10 Facil. \n",
      "2. Top 10 Medio. \n",
      "3. Top 10 Dificil. \n",
      "4. Todos los datos \n",
      "5. Buscar jugador. \n",
      "6. Salir\n"
     ]
    },
    {
     "name": "stdin",
     "output_type": "stream",
     "text": [
      "\n",
      "Escoge una opción entre 1 y 6 6\n"
     ]
    },
    {
     "name": "stdout",
     "output_type": "stream",
     "text": [
      "\n",
      "Regresando al menu anterior\n",
      "\n",
      "1. Juegos Solitario. \n",
      "2. Juegos Multijugador. \n",
      "3. Salir\n"
     ]
    },
    {
     "name": "stdin",
     "output_type": "stream",
     "text": [
      "\n",
      "Escoge una opción entre 1 y 3 3\n"
     ]
    },
    {
     "name": "stdout",
     "output_type": "stream",
     "text": [
      "\n",
      "Regresando al menu principal\n",
      "\n",
      "¡Bienvenido al Juego de adivinanza!\n",
      "1. Partida modo solitario \n",
      "2. Partida 2 Jugadores \n",
      "3. Estadística \n",
      "4. Salir\n"
     ]
    },
    {
     "name": "stdin",
     "output_type": "stream",
     "text": [
      "\n",
      "Escoge una opción entre 1 y 4 4\n"
     ]
    },
    {
     "name": "stdout",
     "output_type": "stream",
     "text": [
      "\n",
      "¡Gracias por jugar!\n"
     ]
    }
   ],
   "source": [
    "###### menu = 0\n",
    "\n",
    "\n",
    "while menu != 4:\n",
    "    Menu()\n",
    "    menu = Opcion(1,4)\n",
    "    if menu == 1:\n",
    "        Dificultad()\n",
    "        dificultad = Opcion(1,4)\n",
    "        \n",
    "        if 1<= dificultad <4:\n",
    "            seleccion = intentos[dificultad-1]\n",
    "            cuantos, estado, jugador = Solitario()\n",
    "            Guardar_solitario(cuantos, estado, jugador, dificultad)\n",
    "        elif dificultad == 4:\n",
    "            minimo, maximo, seleccion = Rango()\n",
    "            cuantos, estado, jugador = Solitario(minimo, maximo)\n",
    "            Guardar_solitario(cuantos, estado, jugador, dificultad)\n",
    "    elif menu == 2:\n",
    "        Dificultad()\n",
    "        dificultad = Opcion(1,4)\n",
    "\n",
    "        if 1 <= dificultad < 4:\n",
    "            seleccion = intentos[dificultad-1]\n",
    "            cuantos, estado, jugador1, jugador2 = Multijugador()\n",
    "            Guardar_multijugador(cuantos, estado, jugador1, jugador2, dificultad)\n",
    "        elif dificultad == 4:\n",
    "            minimo, maximo, seleccion = Rango()\n",
    "            cuantos, estado, jugador1, jugador2 = Multijugador(minimo, maximo)\n",
    "            Guardar_multijugador(cuantos, estado, jugador1, jugador2, dificultad)\n",
    "    elif menu == 3:\n",
    "        estadistica = 0\n",
    "        while estadistica != 3:\n",
    "            Estadistica()\n",
    "            estadistica = Opcion(1,3)\n",
    "            if estadistica in [1,2]:\n",
    "                calculos = 0\n",
    "                while calculos != 6:\n",
    "                    Opciones_Estadistica()\n",
    "                    calculos = Opcion(1,6)\n",
    "                    if 1 <= calculos < 4:\n",
    "                        top10, modo = Top10(estadistica, calculos)\n",
    "                        print(\"\\nTop 10 juegos\")\n",
    "                        print(tabulate(top10.values.tolist(), headers=top10.columns, tablefmt=\"grid\"))\n",
    "                        \n",
    "                    elif calculos == 4:\n",
    "                        top10, modo = Top10(estadistica, calculos)\n",
    "                        print(\"\\nLista de todos los juegos\")\n",
    "                        print(tabulate(modo.values.tolist(), headers=modo.columns, tablefmt=\"grid\"))\n",
    "                        \n",
    "                    elif calculos == 5:\n",
    "                        nombre = input(\"\\nIngresa el nombre del jugador a buscar: \").strip()\n",
    "                        resultado = Buscar(nombre, estadistica)\n",
    "                        if not resultado.empty:\n",
    "                            print(tabulate(resultado.values.tolist(), headers=resultado.columns, tablefmt=\"grid\"))\n",
    "                    \n",
    "                    elif calculos == 6:\n",
    "                        print('\\nRegresando al menu anterior')\n",
    "            elif estadistica == 3:\n",
    "                print('\\nRegresando al menu principal')\n",
    "else:\n",
    "    print('\\n¡Gracias por jugar!')"
   ]
  },
  {
   "cell_type": "code",
   "execution_count": null,
   "id": "79a29295-ab01-493a-b8a3-e1b9007bccfc",
   "metadata": {},
   "outputs": [],
   "source": []
  }
 ],
 "metadata": {
  "kernelspec": {
   "display_name": "Python 3 (ipykernel)",
   "language": "python",
   "name": "python3"
  },
  "language_info": {
   "codemirror_mode": {
    "name": "ipython",
    "version": 3
   },
   "file_extension": ".py",
   "mimetype": "text/x-python",
   "name": "python",
   "nbconvert_exporter": "python",
   "pygments_lexer": "ipython3",
   "version": "3.11.7"
  },
  "widgets": {
   "application/vnd.jupyter.widget-state+json": {
    "state": {},
    "version_major": 2,
    "version_minor": 0
   }
  }
 },
 "nbformat": 4,
 "nbformat_minor": 5
}
